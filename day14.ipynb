{
 "cells": [
  {
   "cell_type": "code",
   "execution_count": null,
   "metadata": {},
   "outputs": [],
   "source": [
    "calculator \n",
    "\n",
    "1- static Value\n",
    "2- we can take user input \n",
    "3. make in run infinite times. "
   ]
  },
  {
   "cell_type": "code",
   "execution_count": 1,
   "metadata": {},
   "outputs": [
    {
     "name": "stdout",
     "output_type": "stream",
     "text": [
      "**Select Operation**\n",
      "1. Add\n",
      "2. Subtract\n",
      "3. Multiplication\n",
      "4. Divide\n",
      "5. Remainder\n",
      "Invalid input\n",
      "5.0 - 10.0 = -5.0\n",
      "9.0 % 3.0 = 0.0\n",
      "5.0 * 9.0 = 45.0\n"
     ]
    }
   ],
   "source": [
    "def add(x,y):\n",
    "    return x+y\n",
    "\n",
    "def subtract(x,y):\n",
    "    return x-y\n",
    "\n",
    "def multiply(x,y):\n",
    "    return x*y\n",
    "\n",
    "def divide(x,y):\n",
    "    return x/y\n",
    "\n",
    "def remainder(x,y):\n",
    "    return x%y\n",
    "\n",
    "print(\"**Select Operation**\")\n",
    "print(\"1. Add\")\n",
    "print(\"2. Subtract\")\n",
    "print(\"3. Multiplication\")\n",
    "print(\"4. Divide\")\n",
    "print(\"5. Remainder\")\n",
    "\n",
    "\n",
    "while True:\n",
    "    choice =input(\"Enter your choice as in (1/2/3/4/5):\")\n",
    "    if choice in (\"1\",\"2\",\"3\",\"4\",\"5\"):\n",
    "        num1=float(input(\"Enter your first number:\"))\n",
    "        num2=float(input(\"Enter your second number:\"))\n",
    "        if choice== \"1\":\n",
    "            print(num1, \"+\", num2 ,\"=\",add(num1,num2))\n",
    "        elif choice== \"2\":\n",
    "            print(num1, \"-\", num2 ,\"=\",subtract(num1,num2))      \n",
    "        elif choice== \"3\":\n",
    "            print(num1, \"*\", num2 ,\"=\",multiply(num1,num2))     \n",
    "        elif choice== \"4\":\n",
    "            print(num1,\"/\", num2 ,\"=\",divide(num1,num2))     \n",
    "        elif choice== \"5\":\n",
    "            print(num1, \"%\", num2 ,\"=\",remainder(num1,num2))           \n",
    "        next=input(\"Do you want to do the next calculation? (yes/no):\")\n",
    "        if next==\"no\":\n",
    "            break\n",
    "    else:\n",
    "        print(\"Invalid input\")           "
   ]
  },
  {
   "cell_type": "markdown",
   "metadata": {},
   "source": [
    "## temperation conversion"
   ]
  },
  {
   "cell_type": "code",
   "execution_count": 3,
   "metadata": {},
   "outputs": [
    {
     "name": "stdout",
     "output_type": "stream",
     "text": [
      "Select the conversion type as follows:\n",
      "1. Celsius to fahrenheit \n",
      "2. fahrenheit to celsius\n",
      "The temperature in celsius is 25.555555555555557\n"
     ]
    }
   ],
   "source": [
    "def celsius_to_fahren(c):\n",
    "    return (c*9/5)+32\n",
    "\n",
    "def fahren_to_cel(f):\n",
    "    return (f-32)*5/9\n",
    "\n",
    "print(\"Select the conversion type as follows:\")\n",
    "print(\"1. Celsius to fahrenheit \")\n",
    "print(\"2. fahrenheit to celsius\")\n",
    "\n",
    "select=int(input(\"Enter your choice 1/2:\"))\n",
    "if select in (1,2):\n",
    "\n",
    "    if select==1:\n",
    "        temp=float(input(\"Enter the temperature in celsius:\"))\n",
    "        print(\"The temperature in fahrenheit is\", celsius_to_fahren(temp))\n",
    "    elif select==2:\n",
    "        temp2=float(input(\"Enter the temperature in fahrenheit:\"))\n",
    "        print(\"The temperature in celsius is\", fahren_to_cel(temp2))\n",
    "else:\n",
    "    print(\"invalid input\")"
   ]
  },
  {
   "cell_type": "code",
   "execution_count": 5,
   "metadata": {},
   "outputs": [],
   "source": [
    "def count_vowels(sent):\n",
    "    vowels=\"aeiouAEIOU\"\n",
    "    count=0\n",
    "    for char in sent:\n",
    "        if char in vowels:\n",
    "            count+=1\n",
    "            \n",
    "    return count"
   ]
  },
  {
   "cell_type": "code",
   "execution_count": 6,
   "metadata": {},
   "outputs": [],
   "source": [
    "sent=\"Write a program to count the number of vowels in this sentence.\""
   ]
  },
  {
   "cell_type": "code",
   "execution_count": 7,
   "metadata": {},
   "outputs": [
    {
     "name": "stdout",
     "output_type": "stream",
     "text": [
      "The total number of vowels in the sentence is  19\n"
     ]
    }
   ],
   "source": [
    "print(\"The total number of vowels in the sentence is \", count_vowels(sent))"
   ]
  },
  {
   "cell_type": "markdown",
   "metadata": {},
   "source": [
    "# palindrome \n",
    "\n",
    "mom \n",
    "madam"
   ]
  },
  {
   "cell_type": "code",
   "execution_count": 10,
   "metadata": {},
   "outputs": [
    {
     "name": "stdout",
     "output_type": "stream",
     "text": [
      "price\n",
      "ecirp\n"
     ]
    }
   ],
   "source": [
    "st=\"price\"\n",
    "print(st)\n",
    "print(st[::-1])"
   ]
  },
  {
   "cell_type": "code",
   "execution_count": 11,
   "metadata": {},
   "outputs": [
    {
     "data": {
      "text/plain": [
       "True"
      ]
     },
     "execution_count": 11,
     "metadata": {},
     "output_type": "execute_result"
    }
   ],
   "source": [
    "def palindrome_checker(s):\n",
    "    return s == s[::-1]\n",
    "\n",
    "palindrome_checker(\"mom\")"
   ]
  },
  {
   "cell_type": "code",
   "execution_count": 12,
   "metadata": {},
   "outputs": [
    {
     "data": {
      "text/plain": [
       "False"
      ]
     },
     "execution_count": 12,
     "metadata": {},
     "output_type": "execute_result"
    }
   ],
   "source": [
    "palindrome_checker(\"Price\")"
   ]
  },
  {
   "cell_type": "code",
   "execution_count": null,
   "metadata": {},
   "outputs": [],
   "source": [
    "price =ecirp  True False\n",
    "mom = mom True"
   ]
  }
 ],
 "metadata": {
  "kernelspec": {
   "display_name": "Python 3",
   "language": "python",
   "name": "python3"
  },
  "language_info": {
   "codemirror_mode": {
    "name": "ipython",
    "version": 3
   },
   "file_extension": ".py",
   "mimetype": "text/x-python",
   "name": "python",
   "nbconvert_exporter": "python",
   "pygments_lexer": "ipython3",
   "version": "3.11.4"
  }
 },
 "nbformat": 4,
 "nbformat_minor": 2
}
