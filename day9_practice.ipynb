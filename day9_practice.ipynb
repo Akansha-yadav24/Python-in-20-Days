{
 "cells": [
  {
   "cell_type": "markdown",
   "metadata": {},
   "source": [
    "Program-1 : count the total number of digits in a number. \n",
    "\n",
    "987654\n",
    "\n",
    "6"
   ]
  },
  {
   "cell_type": "code",
   "execution_count": 2,
   "metadata": {},
   "outputs": [
    {
     "name": "stdout",
     "output_type": "stream",
     "text": [
      "The total number of digits are 6\n"
     ]
    }
   ],
   "source": [
    "num=987654\n",
    "count=0\n",
    "while num !=0:\n",
    "    num=num//10\n",
    "    count=count+1\n",
    "print(\"The total number of digits are\", count)"
   ]
  },
  {
   "cell_type": "markdown",
   "metadata": {},
   "source": [
    "987654//10=98765\n",
    "98765//10=9876\n",
    "9876//10=987\n",
    "987//10=98\n",
    "98//10=9\n",
    "9//10=0"
   ]
  },
  {
   "cell_type": "markdown",
   "metadata": {},
   "source": [
    "program- display numbers from -10 to -1 \n",
    "\n",
    "-10\n",
    "-9\n",
    "-8\n",
    "-7"
   ]
  },
  {
   "cell_type": "code",
   "execution_count": 4,
   "metadata": {},
   "outputs": [
    {
     "name": "stdout",
     "output_type": "stream",
     "text": [
      "-10\n",
      "-9\n",
      "-8\n",
      "-7\n",
      "-6\n",
      "-5\n",
      "-4\n",
      "-3\n",
      "-2\n",
      "-1\n"
     ]
    }
   ],
   "source": [
    "for number in range(-10, 0):\n",
    "    print(number)"
   ]
  },
  {
   "cell_type": "markdown",
   "metadata": {},
   "source": [
    "program-3: Print all the prime number within a range."
   ]
  },
  {
   "cell_type": "code",
   "execution_count": 5,
   "metadata": {},
   "outputs": [
    {
     "name": "stdout",
     "output_type": "stream",
     "text": [
      "Prime number between 10 and  30 are:\n",
      "11\n",
      "13\n",
      "17\n",
      "19\n",
      "23\n",
      "29\n"
     ]
    }
   ],
   "source": [
    "start=10 # 10-30\n",
    "end=30 \n",
    "print(\"Prime number between\", start,\"and \",end,\"are:\")\n",
    "for num in range(start, end+1): #applying a range function with starting and ending value, num value  10-31\n",
    "    if num>1: #Number is greater than 1 or not\n",
    "        for i in range(2,num): #(2,10) \n",
    "            if (num % i) ==0:\n",
    "                break\n",
    "        else: \n",
    "            print(num)"
   ]
  },
  {
   "cell_type": "markdown",
   "metadata": {},
   "source": [
    "program-4: display first 10 or 15 number of fibonacci series\n",
    "\n",
    "0, 1, 1,2,3,5,8,13\n",
    "\n",
    "next number= addition of last two number."
   ]
  },
  {
   "cell_type": "code",
   "execution_count": 6,
   "metadata": {},
   "outputs": [
    {
     "name": "stdout",
     "output_type": "stream",
     "text": [
      "Fibonacci sequence\n",
      "0\n",
      "1\n",
      "1\n",
      "2\n",
      "3\n",
      "5\n",
      "8\n",
      "13\n",
      "21\n",
      "34\n"
     ]
    }
   ],
   "source": [
    "num1, num2=0,1\n",
    "print(\"Fibonacci sequence\")\n",
    "for i in range(10):\n",
    "    print(num1)\n",
    "    result=num1+num2\n",
    "    \n",
    "    #update the values\n",
    "    num1=num2\n",
    "    num2=result"
   ]
  },
  {
   "cell_type": "markdown",
   "metadata": {},
   "source": [
    "5! = 5 4 3 2 1\n",
    "10! = 10 9 8 7 6 5 4 3 2 1"
   ]
  },
  {
   "cell_type": "code",
   "execution_count": 7,
   "metadata": {},
   "outputs": [
    {
     "name": "stdout",
     "output_type": "stream",
     "text": [
      "The factorial of 5 is 120\n"
     ]
    }
   ],
   "source": [
    "num=int(input(\"Enter the number:-\"))\n",
    "factorial= 1\n",
    "if num<0:\n",
    "    print(\"The factorial of negative numbers are not possible.\")\n",
    "elif num ==0:\n",
    "    print(\"The factorial of 0 is 1.\")\n",
    "else:\n",
    "    for i in range(1,num+1):\n",
    "        factorial=factorial*i\n",
    "    print(\"The factorial of\", num,\"is\",factorial)"
   ]
  },
  {
   "cell_type": "code",
   "execution_count": null,
   "metadata": {},
   "outputs": [],
   "source": [
    "5*4*3*2*1\n",
    "range(start,end)\n",
    "range(start, num+1)\n",
    "1 * 1 =1\n",
    "1*2=2\n",
    "3* 2 =6\n",
    "4* 6=24\n",
    "5 * 24 = 120"
   ]
  }
 ],
 "metadata": {
  "kernelspec": {
   "display_name": "Python 3",
   "language": "python",
   "name": "python3"
  },
  "language_info": {
   "codemirror_mode": {
    "name": "ipython",
    "version": 3
   },
   "file_extension": ".py",
   "mimetype": "text/x-python",
   "name": "python",
   "nbconvert_exporter": "python",
   "pygments_lexer": "ipython3",
   "version": "3.11.4"
  }
 },
 "nbformat": 4,
 "nbformat_minor": 2
}
