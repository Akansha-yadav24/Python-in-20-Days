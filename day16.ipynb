{
 "cells": [
  {
   "cell_type": "markdown",
   "metadata": {},
   "source": [
    "## Task: Student Grades Management System\n",
    "#### Write a Program that:\n",
    "* Accepts student names and their grades.\n",
    "* Saves them into a file.\n",
    "* Reads the data back.\n",
    "* Computes the average grade and displays students who scored above the average."
   ]
  },
  {
   "cell_type": "code",
   "execution_count": 12,
   "metadata": {},
   "outputs": [],
   "source": [
    "class car:\n",
    "    def __init__(self,make, year, model, color):\n",
    "        self.make=make\n",
    "        self.year=year\n",
    "        self.model=model\n",
    "        self.color=color\n",
    "    def display(self):\n",
    "        print(f\"{self.make},{self.year}, are the details.\")"
   ]
  },
  {
   "cell_type": "code",
   "execution_count": 13,
   "metadata": {},
   "outputs": [],
   "source": [
    "car1= car(\"toyota\",2020, \"CC\",\"red\")\n",
    "car2= car(\"benz\",2021,\"2cc\",\"white\")\n",
    "car3=car(\"Maruti\",2023,\"ff\",\"grey\")"
   ]
  },
  {
   "cell_type": "code",
   "execution_count": 14,
   "metadata": {},
   "outputs": [
    {
     "name": "stdout",
     "output_type": "stream",
     "text": [
      "toyota,2020, are the details.\n"
     ]
    }
   ],
   "source": [
    "car1.display()"
   ]
  },
  {
   "cell_type": "code",
   "execution_count": null,
   "metadata": {},
   "outputs": [],
   "source": []
  }
 ],
 "metadata": {
  "kernelspec": {
   "display_name": "Python 3",
   "language": "python",
   "name": "python3"
  },
  "language_info": {
   "codemirror_mode": {
    "name": "ipython",
    "version": 3
   },
   "file_extension": ".py",
   "mimetype": "text/x-python",
   "name": "python",
   "nbconvert_exporter": "python",
   "pygments_lexer": "ipython3",
   "version": "3.11.4"
  }
 },
 "nbformat": 4,
 "nbformat_minor": 2
}
