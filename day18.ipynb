{
 "cells": [
  {
   "cell_type": "code",
   "execution_count": 1,
   "metadata": {},
   "outputs": [],
   "source": [
    "class bankaccount:\n",
    "    def __init__(self, account_holder, balance=0):\n",
    "        self.account_holder =account_holder\n",
    "        self.balance=balance\n",
    "        \n",
    "    def deposit(self, amount):\n",
    "        self.balance=self.balance+amount\n",
    "        print(f\"Deposited {amount}. New balance is {self.balance}\")\n",
    "        \n",
    "    def withdraw(self, amount):\n",
    "        if amount> self.balance:\n",
    "            print(\"Insufficient funds\")\n",
    "        else: \n",
    "            self.balance=self.balance-amount\n",
    "            print(f\"withdraw {amount}. New balance is {self.balance}.\")\n",
    "    def display_balance(self):\n",
    "        print(f\"{self.account_holder}'s account balance : {self.balance}.\")\n",
    "        print(self.account_holder,\"'s account balance is \", self.balance)\n",
    "# object creation\n",
    "my_acount= bankaccount(\"Anu\", 1000)\n"
   ]
  },
  {
   "cell_type": "code",
   "execution_count": 2,
   "metadata": {},
   "outputs": [
    {
     "name": "stdout",
     "output_type": "stream",
     "text": [
      "Deposited 500. New balance is 1500\n"
     ]
    }
   ],
   "source": [
    "my_acount.deposit(500)"
   ]
  },
  {
   "cell_type": "code",
   "execution_count": 3,
   "metadata": {},
   "outputs": [
    {
     "name": "stdout",
     "output_type": "stream",
     "text": [
      "Deposited 700. New balance is 2200\n"
     ]
    }
   ],
   "source": [
    "my_acount.deposit(700)"
   ]
  },
  {
   "cell_type": "code",
   "execution_count": 4,
   "metadata": {},
   "outputs": [
    {
     "name": "stdout",
     "output_type": "stream",
     "text": [
      "withdraw 800. New balance is 1400.\n"
     ]
    }
   ],
   "source": [
    "my_acount.withdraw(800)"
   ]
  },
  {
   "cell_type": "code",
   "execution_count": 5,
   "metadata": {},
   "outputs": [
    {
     "name": "stdout",
     "output_type": "stream",
     "text": [
      "Anu's account balance : 1400.\n"
     ]
    }
   ],
   "source": [
    "my_acount.display_balance()"
   ]
  },
  {
   "cell_type": "markdown",
   "metadata": {},
   "source": [
    "# Library Management System\n",
    "\n",
    "## Scenario\n",
    "You are developing a simple library management system to handle book loans. In this system, each member can borrow books, return them, and check their borrowed books. Each book has a title and an author.\n",
    "\n",
    "## Task\n",
    "1. **Create a `LibraryMember` class**:\n",
    "   - **Attributes**:\n",
    "     - `name`: The name of the library member.\n",
    "     - `borrowed_books`: A list to keep track of books borrowed by the member (initially empty).\n",
    "   - **Methods**:\n",
    "     - `borrow_book(book)`: Adds the given book to the member's borrowed books list.\n",
    "     - `return_book(book)`: Removes the given book from the member's borrowed books list if it exists.\n",
    "     - `display_borrowed_books()`: Displays all books currently borrowed by the member.\n",
    "\n",
    "2. **Create a `Book` class**:\n",
    "   - **Attributes**:\n",
    "     - `title`: The title of the book.\n",
    "     - `author`: The author of the book.\n",
    "   - **Methods**:\n",
    "     - `__str__()`: Returns a string representation of the book in the format `\"Title by Author\"`.\n",
    "\n",
    "3. **Create an instance of `LibraryMember`**:\n",
    "   - Name the member \"John Doe\".\n",
    "   - Have John Doe borrow a couple of books.\n",
    "   - Display the list of borrowed books.\n",
    "   - Return one book and display the list of borrowed books again."
   ]
  },
  {
   "cell_type": "markdown",
   "metadata": {},
   "source": []
  },
  {
   "cell_type": "code",
   "execution_count": null,
   "metadata": {},
   "outputs": [],
   "source": []
  }
 ],
 "metadata": {
  "kernelspec": {
   "display_name": "Python 3",
   "language": "python",
   "name": "python3"
  },
  "language_info": {
   "codemirror_mode": {
    "name": "ipython",
    "version": 3
   },
   "file_extension": ".py",
   "mimetype": "text/x-python",
   "name": "python",
   "nbconvert_exporter": "python",
   "pygments_lexer": "ipython3",
   "version": "3.11.4"
  }
 },
 "nbformat": 4,
 "nbformat_minor": 2
}
