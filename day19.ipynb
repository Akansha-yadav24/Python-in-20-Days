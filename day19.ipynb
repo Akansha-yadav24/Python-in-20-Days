{
 "cells": [
  {
   "cell_type": "code",
   "execution_count": 1,
   "metadata": {},
   "outputs": [
    {
     "name": "stdout",
     "output_type": "stream",
     "text": [
      "John Doe borrowed '1984 by George Orwell'.\n",
      "John Doe borrowed 'To Kill a Mockingbird by Harper Lee'.\n",
      "John Doe's borrowed books:\n",
      "- 1984 by George Orwell\n",
      "- To Kill a Mockingbird by Harper Lee\n",
      "John Doe returned '1984 by George Orwell'.\n",
      "John Doe's borrowed books:\n",
      "- To Kill a Mockingbird by Harper Lee\n"
     ]
    }
   ],
   "source": [
    "class Book:\n",
    "    def __init__(self, title, author):\n",
    "        self.title = title\n",
    "        self.author = author\n",
    "\n",
    "    def __str__(self):\n",
    "        return f\"{self.title} by {self.author}\"\n",
    "\n",
    "class LibraryMember:\n",
    "    def __init__(self, name):\n",
    "        self.name = name\n",
    "        self.borrowed_books = []\n",
    "\n",
    "    def borrow_book(self, book):\n",
    "        self.borrowed_books.append(book)\n",
    "        print(f\"{self.name} borrowed '{book}'.\")\n",
    "\n",
    "    def return_book(self, book):\n",
    "        if book in self.borrowed_books:\n",
    "            self.borrowed_books.remove(book)\n",
    "            print(f\"{self.name} returned '{book}'.\")\n",
    "        else:\n",
    "            print(f\"{self.name} doesn't have '{book}' borrowed.\")\n",
    "\n",
    "    def display_borrowed_books(self):\n",
    "        if not self.borrowed_books:\n",
    "            print(f\"{self.name} has no borrowed books.\")\n",
    "        else:\n",
    "            print(f\"{self.name}'s borrowed books:\")\n",
    "            for book in self.borrowed_books:\n",
    "                print(f\"- {book}\")\n",
    "\n",
    "# Create book instances\n",
    "book1 = Book(\"1984\", \"George Orwell\")\n",
    "book2 = Book(\"To Kill a Mockingbird\", \"Harper Lee\")\n",
    "\n",
    "# Create a LibraryMember instance\n",
    "john = LibraryMember(\"John Doe\")\n",
    "\n",
    "# John borrows some books\n",
    "john.borrow_book(book1) \n",
    "john.borrow_book(book2) \n",
    "\n",
    "# Display John's borrowed books\n",
    "john.display_borrowed_books()\n",
    "\n",
    "# John returns one book\n",
    "john.return_book(book1) \n",
    "\n",
    "# Display John's borrowed books again\n",
    "john.display_borrowed_books()\n"
   ]
  },
  {
   "cell_type": "code",
   "execution_count": 9,
   "metadata": {},
   "outputs": [],
   "source": [
    "class library_member:\n",
    "    def __init__(self, name):\n",
    "        self.name =name\n",
    "        self.borrowed_books= []\n",
    "        \n",
    "    def borrow_book(self, book):\n",
    "        self.borrowed_books.append(book)\n",
    "        print (self.name ,\"borrowed\", book)\n",
    "        \n",
    "    def return_book(self, book):\n",
    "         if book in self.borrowed_books:\n",
    "            self.borrowed_books.remove(book)\n",
    "            print(self.name, \"book_returned\", book) \n",
    "         else: \n",
    "            print(\"Book not borrowed\")\n",
    "         \n",
    "    def display_borrowed_books(self):\n",
    "        if not self.borrowed_books:\n",
    "            print(self.name, \"no borrowed books\")\n",
    "        else:\n",
    "             print(self.name, \"borrowed books\")   \n",
    "             for book in self.borrowed_books:\n",
    "                 print(book)\n",
    "                 \n",
    "class book: \n",
    "    def __init__ (self,title, author) :   \n",
    "        self.title = title\n",
    "        self.author = author\n",
    "        \n",
    "    def __str__(self):\n",
    "        return f\"{self.title} by { self.author}\""
   ]
  },
  {
   "cell_type": "code",
   "execution_count": 10,
   "metadata": {},
   "outputs": [
    {
     "name": "stdout",
     "output_type": "stream",
     "text": [
      "anu borrowed abc by xyz\n",
      "anu borrowed books\n",
      "abc by xyz\n"
     ]
    }
   ],
   "source": [
    "book1 = book(\"abc\", \"xyz\")  \n",
    "book2 =book(\"qwe\",\"bnm\")   \n",
    "library = library_member(\"anu\")  \n",
    "library.borrow_book(book1) \n",
    "library.display_borrowed_books()"
   ]
  },
  {
   "cell_type": "code",
   "execution_count": 11,
   "metadata": {},
   "outputs": [
    {
     "name": "stdout",
     "output_type": "stream",
     "text": [
      "anu book_returned abc by xyz\n"
     ]
    }
   ],
   "source": [
    "library.return_book(book1)"
   ]
  },
  {
   "cell_type": "code",
   "execution_count": null,
   "metadata": {},
   "outputs": [],
   "source": []
  }
 ],
 "metadata": {
  "kernelspec": {
   "display_name": "Python 3",
   "language": "python",
   "name": "python3"
  },
  "language_info": {
   "codemirror_mode": {
    "name": "ipython",
    "version": 3
   },
   "file_extension": ".py",
   "mimetype": "text/x-python",
   "name": "python",
   "nbconvert_exporter": "python",
   "pygments_lexer": "ipython3",
   "version": "3.11.4"
  }
 },
 "nbformat": 4,
 "nbformat_minor": 2
}
