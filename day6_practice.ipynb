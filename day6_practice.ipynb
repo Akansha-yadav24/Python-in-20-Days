{
 "cells": [
  {
   "cell_type": "markdown",
   "metadata": {},
   "source": [
    "**CHALLENGE1- BMI:**\n",
    "Shubham is worried about his health. He keeps checking his height and\n",
    "weight daily. Recently he came to know about the BMI report, and now\n",
    "he wants to calculate his own BMI by writing a python program. Write a\n",
    "program in python to check your BMI by putting your height and weight\n",
    "as input.\n",
    "Note: Body Mass Index is a simple calculation using a person's height\n",
    "and weight. The formula is BMI = kg/m2 where kg is a person's weight in\n",
    "kilograms and m2 is their height in meters squared. A BMI of 25.0 or\n",
    "more is overweight, while the healthy range is 18.5 to 24.9. BMI applies\n",
    "to most adults 18-65 years.\n",
    "Shubham after creating the program and was relieved and wanted to\n",
    "prettify it using print statements. So print the heading of the problem and\n",
    "use print statements to display statements and make the program as\n",
    "pretty as possible."
   ]
  },
  {
   "cell_type": "code",
   "execution_count": 2,
   "metadata": {},
   "outputs": [
    {
     "name": "stdout",
     "output_type": "stream",
     "text": [
      " *********BMI CAlCULATOR************\n",
      "Entered height in cm: 142.0\n",
      "Entered weight in kgs:  35.0\n",
      "BMI calculated to be  17.35766712953779\n",
      "You're Underweight\n",
      "************************************\n"
     ]
    }
   ],
   "source": [
    "height=float(input(\"Enter the height in centimeter.\"))\n",
    "m = height/100 # Converting cm into meter\n",
    "weight= float(input(\"Enter the Weight in kgs.\"))\n",
    "m2= m*m # Calculating meter square\n",
    "BMI= weight/m2 \n",
    "print(\" *********BMI CAlCULATOR************\")\n",
    "print(\"Entered height in cm:\", height)\n",
    "print(\"Entered weight in kgs: \", weight)\n",
    "print(\"BMI calculated to be \", BMI)\n",
    "if BMI>=25:\n",
    "    print(\"you're Overweight\")\n",
    "elif BMI>=18.5 and BMI <=24.9:\n",
    "    print(\"You're healthy.\")\n",
    "else: \n",
    "    print(\"You're Underweight\")\n",
    "print(\"************************************\")"
   ]
  },
  {
   "cell_type": "markdown",
   "metadata": {},
   "source": [
    "**CHALLENGE 2- LEAP YEAR:**\n",
    "A year consists of 365 days. But once in every four years, it consists of\n",
    "366 days. And that is known as a leap year. Shisha wants to know\n",
    "whether the current year is a leap year or not. She found that any year\n",
    "divisible by 4 is a leap year, if the year is divisible by 100 then it will not\n",
    "be a leap year, and if the year is divisible by 400 then it will be a leap\n",
    "year. Write a program in python to check whether the given year is a\n",
    "leap year or not to help Shisha.\n",
    "Hint: Use if elif else condition\n",
    "Use the print statements to make the program as pretty as possible\n",
    "including printing patterns. Check the output on the next slide to get a\n",
    "general idea of what to include and what the output should look like.\n"
   ]
  },
  {
   "cell_type": "code",
   "execution_count": 4,
   "metadata": {},
   "outputs": [
    {
     "name": "stdout",
     "output_type": "stream",
     "text": [
      "********* LEAP YEAR CHECKER************\n",
      "1999 is Not A Leap Year)\n"
     ]
    }
   ],
   "source": [
    "year=int(input(\"Enter the Year to be checked:\"))\n",
    "print(\"********* LEAP YEAR CHECKER************\")\n",
    "if year%400 ==0  or year%100!= 00 and year%4==0:\n",
    "    print(year,\"is a Leap Year.\")\n",
    "else:\n",
    "    print(year, \"is Not A Leap Year)\")"
   ]
  },
  {
   "cell_type": "markdown",
   "metadata": {},
   "source": [
    "**CHALLENGE 3- GARDEN FENCING:**\n",
    "Anu recently bought a house and it came with a garden. She absolutely\n",
    "loved the house and wanted to fence the garden. She took a measuring\n",
    "tape and found out that the measurements were in the following order,\n",
    "20 m, 12 m, and 12 m. Find the cost of fencing at the rate of ` 150 per\n",
    "meter.\n",
    "Create a visually appealing python program that can calculate the price\n",
    "of fencing by calculating the perimeter. Use print statements to make the\n",
    "program look pretty"
   ]
  },
  {
   "cell_type": "code",
   "execution_count": 5,
   "metadata": {},
   "outputs": [
    {
     "name": "stdout",
     "output_type": "stream",
     "text": [
      "6600\n"
     ]
    }
   ],
   "source": [
    "l1= 20\n",
    "l2= 12 \n",
    "l3=12\n",
    "perimeter = l1+l2+l3\n",
    "rate_per_meter = 150\n",
    "total_cost = perimeter * rate_per_meter\n",
    "print(total_cost)"
   ]
  },
  {
   "cell_type": "markdown",
   "metadata": {},
   "source": [
    "**CHALLENGE 4- FIELD FERTILISING:**\n",
    "A farmer recently bought a patch of land and wanted to fertilize the area.\n",
    "He dug out an area in the radius of 7m and wanted to fertilize it. If the\n",
    "going rate is to be taken from the user, for example 1KG of fertilizer for 1\n",
    "square meter area. The area has to be calculated where the value of pi\n",
    "can be assumed to be 3.14. Use the print statements to make the\n",
    "program visually appealing.\n",
    "He wants to decide if the cost is affordable or not. Check if the cost is\n",
    "greater than 150. If the cost is greater than 150 then it is not affordable\n",
    "but if the cost is less than 150 then it is affordable."
   ]
  },
  {
   "cell_type": "code",
   "execution_count": null,
   "metadata": {},
   "outputs": [],
   "source": []
  },
  {
   "cell_type": "markdown",
   "metadata": {},
   "source": [
    "**TAsk-**\n",
    "\n",
    "Johnathan was the class monitor for his class. His teacher asked him to\n",
    "create a program that can take the input from the user. The program\n",
    "takes the first three email ids of the first three students and checks if the\n",
    "email is valid or not. The email is valid if there is an @ symbol and .com\n",
    "at the end. Write a program that takes three string inputs for three\n",
    "students, stores them in a list and checks if the emails are valid one by\n",
    "one from the list. Use print statements to make the program visually\n",
    "appealing.\n"
   ]
  },
  {
   "cell_type": "markdown",
   "metadata": {},
   "source": []
  }
 ],
 "metadata": {
  "kernelspec": {
   "display_name": "Python 3",
   "language": "python",
   "name": "python3"
  },
  "language_info": {
   "codemirror_mode": {
    "name": "ipython",
    "version": 3
   },
   "file_extension": ".py",
   "mimetype": "text/x-python",
   "name": "python",
   "nbconvert_exporter": "python",
   "pygments_lexer": "ipython3",
   "version": "3.11.4"
  }
 },
 "nbformat": 4,
 "nbformat_minor": 2
}
