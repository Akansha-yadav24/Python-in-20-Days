{
 "cells": [
  {
   "cell_type": "markdown",
   "metadata": {},
   "source": [
    "## Program 1: Find the sum and average of elements in a list.\n",
    "\n",
    "- Create a list of numbers.\n",
    "- Calculate and print the sum of all elements.\n",
    "- Calculate and print the average of the list."
   ]
  },
  {
   "cell_type": "code",
   "execution_count": 1,
   "metadata": {},
   "outputs": [
    {
     "name": "stdout",
     "output_type": "stream",
     "text": [
      "The items availabe in the list [10, 20, 30, 50, 90]\n",
      "The sum of items 200\n",
      "The average of the list item is  40.0\n"
     ]
    }
   ],
   "source": [
    "first_list=[10,20,30,50,90]\n",
    "sum=sum(first_list)\n",
    "average = sum/len(first_list)\n",
    "print(\"The items availabe in the list\", first_list)\n",
    "print(\"The sum of items\", sum)\n",
    "print(\"The average of the list item is \", average)"
   ]
  },
  {
   "cell_type": "markdown",
   "metadata": {},
   "source": [
    "## Program 2: Remove duplicates from a list.\n",
    "\n",
    "- Create a list with duplicate elements.\n",
    "- Remove the duplicates and print the updated list."
   ]
  },
  {
   "cell_type": "code",
   "execution_count": 2,
   "metadata": {},
   "outputs": [
    {
     "name": "stdout",
     "output_type": "stream",
     "text": [
      "Orignal list: [10, 20, 20, 30, 50, 50, 20, 90, 30]\n",
      "The list with unique value [10, 50, 20, 90, 30]\n"
     ]
    }
   ],
   "source": [
    "list12=[10,20,20,30,50,50,20,90,30]\n",
    "unique_num= list(set(list12)) # converted list to set and the set to list \n",
    "print(\"Orignal list:\", list12)\n",
    "print(\"The list with unique value\", unique_num)"
   ]
  },
  {
   "cell_type": "markdown",
   "metadata": {},
   "source": [
    "## Program 3: Find the largest and smallest elements in a list.\n",
    "\n",
    "- Create a list of numbers.\n",
    "- Find and print the largest and smallest numbers in the list."
   ]
  },
  {
   "cell_type": "code",
   "execution_count": 3,
   "metadata": {},
   "outputs": [
    {
     "name": "stdout",
     "output_type": "stream",
     "text": [
      "The orignal list is [95, 86, 93, 52, 25, 98, 65]\n",
      "The minimum value is 25\n",
      "The maximum value is  98\n"
     ]
    }
   ],
   "source": [
    "list23=[95,86,93,52,25,98,65]\n",
    "minimum=min(list23)\n",
    "maximum= max(list23)\n",
    "print(\"The orignal list is\", list23)\n",
    "print(\"The minimum value is\", minimum)\n",
    "print(\"The maximum value is \", maximum)"
   ]
  },
  {
   "cell_type": "markdown",
   "metadata": {},
   "source": [
    "## Program 4: Sort a list in ascending and descending order.\n",
    "\n",
    "- Create a list of random numbers.\n",
    "- Sort the list in ascending order and print it.\n",
    "- Sort the list in descending order and print it."
   ]
  },
  {
   "cell_type": "code",
   "execution_count": 4,
   "metadata": {},
   "outputs": [
    {
     "name": "stdout",
     "output_type": "stream",
     "text": [
      "Original list is  [95, 86, 93, 52, 25, 98, 65]\n",
      "The ascending order of the is  [25, 52, 65, 86, 93, 95, 98]\n",
      "The list in descending is [98, 95, 93, 86, 65, 52, 25]\n"
     ]
    }
   ],
   "source": [
    "list23=[95,86,93,52,25,98,65]\n",
    "asc=sorted(list23)\n",
    "dsc= sorted(list23, reverse=True)\n",
    "print(\"Original list is \", list23)\n",
    "print(\"The ascending order of the is \", asc)\n",
    "print(\"The list in descending is\", dsc)"
   ]
  },
  {
   "cell_type": "markdown",
   "metadata": {},
   "source": [
    "## Program 1: Set operations (union, intersection, difference).\n",
    "\n",
    "- Create two sets of numbers.\n",
    "- Find and print the union of the two sets.\n",
    "- Find and print the intersection of the two sets.\n",
    "- Find and print the difference between the two sets."
   ]
  },
  {
   "cell_type": "code",
   "execution_count": 6,
   "metadata": {},
   "outputs": [
    {
     "name": "stdout",
     "output_type": "stream",
     "text": [
      "Set1 is {98, 53, 10, 12, 13, 15}\n",
      "Set 2 is {50, 85, 25, 90, 75, 93, 63}\n",
      "The union of set 1 and set 2 is  {98, 10, 75, 12, 13, 15, 50, 53, 85, 25, 90, 93, 63}\n",
      "The intersection of set1 and set2 is  set()\n",
      "The difference of set1 and set2 is  {75, 50, 85, 25, 90, 93, 63}\n"
     ]
    }
   ],
   "source": [
    "set1={10,12,13,15,98,53}\n",
    "set2={75,85,93,25,85,63,50,90}\n",
    "unionset=set1.union(set2)\n",
    "intersetset=set1.intersection(set2)\n",
    "diffset= set2.difference(set1)\n",
    "print(\"Set1 is\", set1)\n",
    "print(\"Set 2 is\", set2)\n",
    "print(\"The union of set 1 and set 2 is \", unionset)\n",
    "print(\"The intersection of set1 and set2 is \", intersetset)\n",
    "print(\"The difference of set1 and set2 is \", diffset)"
   ]
  },
  {
   "cell_type": "markdown",
   "metadata": {},
   "source": [
    "### Program 2: Check if a set is a subset of another.\n",
    "\n",
    "- Create two sets of numbers.\n",
    "- Check if one set is a subset of the other and print the result."
   ]
  },
  {
   "cell_type": "code",
   "execution_count": 8,
   "metadata": {},
   "outputs": [
    {
     "name": "stdout",
     "output_type": "stream",
     "text": [
      "True\n"
     ]
    }
   ],
   "source": [
    "set1={10,12,13,15,98,53}\n",
    "set2={75,85,93,25,85,63,50,90}\n",
    "set3={93,85,63}\n",
    "\n",
    "checking=set3.issubset(set2)\n",
    "print(checking)"
   ]
  },
  {
   "cell_type": "markdown",
   "metadata": {},
   "source": []
  },
  {
   "cell_type": "markdown",
   "metadata": {},
   "source": [
    "## Program 1: Access and manipulate elements in a tuple.\n",
    "\n",
    "- Create a tuple of numbers or strings.\n",
    "- Access specific elements using indexing.\n",
    "- Attempt to change an element (to demonstrate immutability)."
   ]
  },
  {
   "cell_type": "code",
   "execution_count": 12,
   "metadata": {},
   "outputs": [
    {
     "name": "stdout",
     "output_type": "stream",
     "text": [
      "95\n",
      "63\n"
     ]
    },
    {
     "ename": "TypeError",
     "evalue": "'tuple' object does not support item assignment",
     "output_type": "error",
     "traceback": [
      "\u001b[1;31m---------------------------------------------------------------------------\u001b[0m",
      "\u001b[1;31mTypeError\u001b[0m                                 Traceback (most recent call last)",
      "Cell \u001b[1;32mIn[12], line 4\u001b[0m\n\u001b[0;32m      2\u001b[0m \u001b[38;5;28mprint\u001b[39m(tuple1[\u001b[38;5;241m0\u001b[39m])\n\u001b[0;32m      3\u001b[0m \u001b[38;5;28mprint\u001b[39m(tuple1[\u001b[38;5;241m-\u001b[39m\u001b[38;5;241m1\u001b[39m])\n\u001b[1;32m----> 4\u001b[0m \u001b[43mtuple1\u001b[49m\u001b[43m[\u001b[49m\u001b[38;5;241;43m1\u001b[39;49m\u001b[43m]\u001b[49m\u001b[38;5;241m=\u001b[39m\u001b[38;5;241m958\u001b[39m\n",
      "\u001b[1;31mTypeError\u001b[0m: 'tuple' object does not support item assignment"
     ]
    }
   ],
   "source": [
    "tuple1=(95,859,86,95,63)\n",
    "print(tuple1[0])\n",
    "print(tuple1[-1])\n",
    "tuple1[1]=958"
   ]
  },
  {
   "cell_type": "code",
   "execution_count": 13,
   "metadata": {},
   "outputs": [],
   "source": [
    "tuple1=(\"Apple\",\"Fruits\",\"Grapes\",\"Python\",\"Learn\")"
   ]
  },
  {
   "cell_type": "code",
   "execution_count": 14,
   "metadata": {},
   "outputs": [],
   "source": [
    "a=tuple1[0]"
   ]
  },
  {
   "cell_type": "code",
   "execution_count": 15,
   "metadata": {},
   "outputs": [],
   "source": [
    "a,b,c,d,e=tuple1"
   ]
  },
  {
   "cell_type": "code",
   "execution_count": 16,
   "metadata": {},
   "outputs": [
    {
     "data": {
      "text/plain": [
       "('Apple', 'Fruits', 'Grapes', 'Python', 'Learn')"
      ]
     },
     "execution_count": 16,
     "metadata": {},
     "output_type": "execute_result"
    }
   ],
   "source": [
    "tuple1"
   ]
  },
  {
   "cell_type": "code",
   "execution_count": 17,
   "metadata": {},
   "outputs": [
    {
     "data": {
      "text/plain": [
       "'Apple'"
      ]
     },
     "execution_count": 17,
     "metadata": {},
     "output_type": "execute_result"
    }
   ],
   "source": [
    "a"
   ]
  },
  {
   "cell_type": "code",
   "execution_count": 18,
   "metadata": {},
   "outputs": [
    {
     "data": {
      "text/plain": [
       "'Fruits'"
      ]
     },
     "execution_count": 18,
     "metadata": {},
     "output_type": "execute_result"
    }
   ],
   "source": [
    "b"
   ]
  },
  {
   "cell_type": "code",
   "execution_count": 19,
   "metadata": {},
   "outputs": [
    {
     "data": {
      "text/plain": [
       "'Grapes'"
      ]
     },
     "execution_count": 19,
     "metadata": {},
     "output_type": "execute_result"
    }
   ],
   "source": [
    "c"
   ]
  },
  {
   "cell_type": "markdown",
   "metadata": {},
   "source": [
    "## Program 2: Find the length, maximum, and minimum in a tuple.\n",
    "\n",
    "- Create a tuple of numbers.\n",
    "- Find and print the length of the tuple.\n",
    "- Find and print the maximum and minimum values in the tuple."
   ]
  },
  {
   "cell_type": "markdown",
   "metadata": {},
   "source": [
    "## Program 1: Count the frequency of elements in a list.\n",
    "\n",
    "- Create a list of elements (numbers or strings).\n",
    "- Create a dictionary to store the frequency of each element.\n",
    "- Print the frequency of each element."
   ]
  },
  {
   "cell_type": "code",
   "execution_count": 22,
   "metadata": {},
   "outputs": [
    {
     "name": "stdout",
     "output_type": "stream",
     "text": [
      "List of the element is  ['Apple', 'banana', 'Python', 'py', 'Py', 'py', 'banana', 'Py', 'Apple', 'Apple', 75, 85, 75, 85]\n",
      "{'Apple': 3, 'banana': 2, 'Python': 1, 'py': 2, 'Py': 2, 75: 2, 85: 2}\n",
      "Apple:3\n",
      "banana:2\n",
      "Python:1\n",
      "py:2\n",
      "Py:2\n",
      "75:2\n",
      "85:2\n"
     ]
    }
   ],
   "source": [
    "list12=[\"Apple\",\"banana\",\"Python\",\"py\",\"Py\",\"py\",\"banana\",\"Py\",\"Apple\",\"Apple\",75,85,75,85]\n",
    "freq={}\n",
    "for element in list12:\n",
    "    if element in freq:\n",
    "        freq[element]+=1 # values of the dictionary\n",
    "    else:\n",
    "        freq[element]=1 # adding key with value 1 \"apple\":1\n",
    "    \n",
    "print(\"List of the element is \", list12)\n",
    "print(freq)\n",
    "for key, value in freq.items():\n",
    "    print(f\"{key}:{value}\")"
   ]
  },
  {
   "cell_type": "code",
   "execution_count": null,
   "metadata": {},
   "outputs": [],
   "source": []
  }
 ],
 "metadata": {
  "kernelspec": {
   "display_name": "Python 3",
   "language": "python",
   "name": "python3"
  },
  "language_info": {
   "codemirror_mode": {
    "name": "ipython",
    "version": 3
   },
   "file_extension": ".py",
   "mimetype": "text/x-python",
   "name": "python",
   "nbconvert_exporter": "python",
   "pygments_lexer": "ipython3",
   "version": "3.11.4"
  }
 },
 "nbformat": 4,
 "nbformat_minor": 2
}
