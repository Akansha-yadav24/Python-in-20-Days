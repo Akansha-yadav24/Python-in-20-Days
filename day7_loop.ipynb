{
 "cells": [
  {
   "cell_type": "code",
   "execution_count": null,
   "metadata": {},
   "outputs": [],
   "source": [
    "- for Loop \n",
    "- while loop \n",
    "\n",
    "for variable in datatyppe/value:\n",
    "    "
   ]
  },
  {
   "cell_type": "markdown",
   "metadata": {},
   "source": [
    "1. i am learning python \n",
    "2. i am learnig python \n",
    "\n",
    "print()"
   ]
  },
  {
   "cell_type": "code",
   "execution_count": null,
   "metadata": {},
   "outputs": [],
   "source": [
    "two types of variable\n",
    "1. global variable -- which can be accessed anywhere in your notebook\n",
    "2. local variable -- that can be accessed within a particular scope\n"
   ]
  },
  {
   "cell_type": "code",
   "execution_count": 3,
   "metadata": {},
   "outputs": [
    {
     "name": "stdout",
     "output_type": "stream",
     "text": [
      "h\n",
      "e\n",
      "l\n",
      "l\n",
      "o\n"
     ]
    }
   ],
   "source": [
    "var1=25 # variable, stored 25 value\n",
    "for a in \"hello\": # for loop with local variable a which is iterating over hello word\n",
    "    print(a)\n",
    "# print within loop\n"
   ]
  },
  {
   "cell_type": "code",
   "execution_count": 4,
   "metadata": {},
   "outputs": [
    {
     "name": "stdout",
     "output_type": "stream",
     "text": [
      "o\n"
     ]
    }
   ],
   "source": [
    "print(a) #print is outside of the loop. "
   ]
  },
  {
   "cell_type": "code",
   "execution_count": 2,
   "metadata": {},
   "outputs": [
    {
     "name": "stdout",
     "output_type": "stream",
     "text": [
      "25\n"
     ]
    }
   ],
   "source": [
    "print(var1)"
   ]
  },
  {
   "cell_type": "markdown",
   "metadata": {},
   "source": [
    "for variable in datatype/value/list/variable/range:\n",
    "    print()\n",
    "    if else\n",
    "    nested if \n",
    "    "
   ]
  },
  {
   "cell_type": "code",
   "execution_count": 5,
   "metadata": {},
   "outputs": [
    {
     "name": "stdout",
     "output_type": "stream",
     "text": [
      "0 I'm learning python \n",
      "1 I'm learning python \n",
      "2 I'm learning python \n",
      "3 I'm learning python \n",
      "4 I'm learning python \n",
      "5 I'm learning python \n",
      "6 I'm learning python \n",
      "7 I'm learning python \n",
      "8 I'm learning python \n",
      "9 I'm learning python \n",
      "10 I'm learning python \n",
      "11 I'm learning python \n",
      "12 I'm learning python \n",
      "13 I'm learning python \n",
      "14 I'm learning python \n",
      "15 I'm learning python \n",
      "16 I'm learning python \n",
      "17 I'm learning python \n",
      "18 I'm learning python \n",
      "19 I'm learning python \n",
      "20 I'm learning python \n",
      "21 I'm learning python \n",
      "22 I'm learning python \n",
      "23 I'm learning python \n",
      "24 I'm learning python \n",
      "25 I'm learning python \n",
      "26 I'm learning python \n",
      "27 I'm learning python \n",
      "28 I'm learning python \n",
      "29 I'm learning python \n",
      "30 I'm learning python \n",
      "31 I'm learning python \n",
      "32 I'm learning python \n",
      "33 I'm learning python \n",
      "34 I'm learning python \n",
      "35 I'm learning python \n",
      "36 I'm learning python \n",
      "37 I'm learning python \n",
      "38 I'm learning python \n",
      "39 I'm learning python \n",
      "40 I'm learning python \n",
      "41 I'm learning python \n",
      "42 I'm learning python \n",
      "43 I'm learning python \n",
      "44 I'm learning python \n",
      "45 I'm learning python \n",
      "46 I'm learning python \n",
      "47 I'm learning python \n",
      "48 I'm learning python \n",
      "49 I'm learning python \n",
      "50 I'm learning python \n",
      "51 I'm learning python \n",
      "52 I'm learning python \n",
      "53 I'm learning python \n",
      "54 I'm learning python \n",
      "55 I'm learning python \n",
      "56 I'm learning python \n",
      "57 I'm learning python \n",
      "58 I'm learning python \n",
      "59 I'm learning python \n",
      "60 I'm learning python \n",
      "61 I'm learning python \n",
      "62 I'm learning python \n",
      "63 I'm learning python \n",
      "64 I'm learning python \n",
      "65 I'm learning python \n",
      "66 I'm learning python \n",
      "67 I'm learning python \n",
      "68 I'm learning python \n",
      "69 I'm learning python \n",
      "70 I'm learning python \n",
      "71 I'm learning python \n",
      "72 I'm learning python \n",
      "73 I'm learning python \n",
      "74 I'm learning python \n",
      "75 I'm learning python \n",
      "76 I'm learning python \n",
      "77 I'm learning python \n",
      "78 I'm learning python \n",
      "79 I'm learning python \n",
      "80 I'm learning python \n",
      "81 I'm learning python \n",
      "82 I'm learning python \n",
      "83 I'm learning python \n",
      "84 I'm learning python \n",
      "85 I'm learning python \n",
      "86 I'm learning python \n",
      "87 I'm learning python \n",
      "88 I'm learning python \n",
      "89 I'm learning python \n",
      "90 I'm learning python \n",
      "91 I'm learning python \n",
      "92 I'm learning python \n",
      "93 I'm learning python \n",
      "94 I'm learning python \n",
      "95 I'm learning python \n",
      "96 I'm learning python \n",
      "97 I'm learning python \n",
      "98 I'm learning python \n",
      "99 I'm learning python \n"
     ]
    }
   ],
   "source": [
    "for a in range(0,100):\n",
    "    print(a,\"I'm learning python \")"
   ]
  },
  {
   "cell_type": "code",
   "execution_count": 6,
   "metadata": {},
   "outputs": [
    {
     "name": "stdout",
     "output_type": "stream",
     "text": [
      "I\n",
      "'\n",
      " \n",
      "a\n",
      "m\n",
      " \n",
      "l\n",
      "e\n",
      "a\n",
      "r\n",
      "n\n",
      "i\n",
      "n\n",
      "g\n",
      " \n",
      "p\n",
      "y\n",
      "t\n",
      "h\n",
      "o\n",
      "n\n",
      ".\n"
     ]
    }
   ],
   "source": [
    "var2=\"I' am learning python.\"\n",
    "for b in var2:\n",
    "    print(b)"
   ]
  },
  {
   "cell_type": "code",
   "execution_count": 9,
   "metadata": {},
   "outputs": [
    {
     "name": "stdout",
     "output_type": "stream",
     "text": [
      "Apple\n",
      "Mango\n",
      "Kiwi\n",
      "Grapes\n",
      "65\n",
      "95\n"
     ]
    }
   ],
   "source": [
    "fruits=[\"Apple\",\"Mango\",\"Kiwi\",\"Grapes\",65,95]\n",
    "for items in fruits:\n",
    "    print(items)"
   ]
  },
  {
   "cell_type": "code",
   "execution_count": 8,
   "metadata": {},
   "outputs": [
    {
     "name": "stdout",
     "output_type": "stream",
     "text": [
      "A\n",
      "P\n",
      "p\n",
      "l\n",
      "e\n"
     ]
    }
   ],
   "source": [
    "for gh in \"APple\":\n",
    "    print(gh)"
   ]
  },
  {
   "cell_type": "code",
   "execution_count": 11,
   "metadata": {},
   "outputs": [
    {
     "name": "stdout",
     "output_type": "stream",
     "text": [
      "2\n",
      "3\n",
      "4\n",
      "5\n",
      "6\n",
      "7\n",
      "8\n",
      "9\n"
     ]
    }
   ],
   "source": [
    "for num in range(2,10):\n",
    "    print(num)"
   ]
  },
  {
   "cell_type": "code",
   "execution_count": 17,
   "metadata": {},
   "outputs": [
    {
     "name": "stdout",
     "output_type": "stream",
     "text": [
      "375\n"
     ]
    }
   ],
   "source": [
    "list3=[95,85,75,65,55]\n",
    "total=0\n",
    "for num in list3:\n",
    "    total= total+num\n",
    "print(total)\n",
    "    "
   ]
  },
  {
   "cell_type": "code",
   "execution_count": 16,
   "metadata": {},
   "outputs": [
    {
     "name": "stdout",
     "output_type": "stream",
     "text": [
      "375\n"
     ]
    }
   ],
   "source": [
    "list3=[95,85,75,65,55]\n",
    "total=0\n",
    "for num in list3:\n",
    "    total+=num\n",
    "print(total)\n",
    "    "
   ]
  },
  {
   "cell_type": "code",
   "execution_count": 26,
   "metadata": {},
   "outputs": [
    {
     "name": "stdout",
     "output_type": "stream",
     "text": [
      "1\n",
      "3\n",
      "5\n",
      "7\n",
      "9\n",
      "11\n",
      "13\n",
      "15\n",
      "17\n",
      "19\n"
     ]
    }
   ],
   "source": [
    "for i in range(1, 21,2):\n",
    "    print(i)"
   ]
  },
  {
   "cell_type": "code",
   "execution_count": 24,
   "metadata": {},
   "outputs": [
    {
     "name": "stdout",
     "output_type": "stream",
     "text": [
      "0\n",
      "1\n",
      "2\n",
      "3\n",
      "4\n",
      "5\n",
      "6\n",
      "7\n",
      "8\n",
      "9\n",
      "10\n",
      "11\n",
      "12\n",
      "13\n",
      "14\n",
      "15\n",
      "16\n",
      "17\n",
      "18\n",
      "19\n",
      "20\n"
     ]
    }
   ],
   "source": [
    "for i in range(0, 21, 2-1):\n",
    "    print(i)"
   ]
  }
 ],
 "metadata": {
  "kernelspec": {
   "display_name": "Python 3",
   "language": "python",
   "name": "python3"
  },
  "language_info": {
   "codemirror_mode": {
    "name": "ipython",
    "version": 3
   },
   "file_extension": ".py",
   "mimetype": "text/x-python",
   "name": "python",
   "nbconvert_exporter": "python",
   "pygments_lexer": "ipython3",
   "version": "3.11.4"
  }
 },
 "nbformat": 4,
 "nbformat_minor": 2
}
