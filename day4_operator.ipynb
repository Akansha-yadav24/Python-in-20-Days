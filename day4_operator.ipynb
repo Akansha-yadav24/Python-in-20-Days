{
 "cells": [
  {
   "cell_type": "code",
   "execution_count": 1,
   "metadata": {},
   "outputs": [],
   "source": [
    "text= \"Hello ! I am Learning. $\""
   ]
  },
  {
   "cell_type": "code",
   "execution_count": 2,
   "metadata": {},
   "outputs": [
    {
     "name": "stdout",
     "output_type": "stream",
     "text": [
      "Hello ! I am Learning. $\n"
     ]
    }
   ],
   "source": [
    "print(text)"
   ]
  },
  {
   "cell_type": "code",
   "execution_count": 3,
   "metadata": {},
   "outputs": [
    {
     "data": {
      "text/plain": [
       "True"
      ]
     },
     "execution_count": 3,
     "metadata": {},
     "output_type": "execute_result"
    }
   ],
   "source": [
    "text.startswith(\"Hello\")"
   ]
  },
  {
   "cell_type": "code",
   "execution_count": 4,
   "metadata": {},
   "outputs": [
    {
     "data": {
      "text/plain": [
       "True"
      ]
     },
     "execution_count": 4,
     "metadata": {},
     "output_type": "execute_result"
    }
   ],
   "source": [
    "text.endswith(\"$\")"
   ]
  },
  {
   "cell_type": "code",
   "execution_count": 6,
   "metadata": {},
   "outputs": [
    {
     "ename": "SyntaxError",
     "evalue": "invalid syntax (1350027199.py, line 5)",
     "output_type": "error",
     "traceback": [
      "\u001b[1;36m  Cell \u001b[1;32mIn[6], line 5\u001b[1;36m\u001b[0m\n\u001b[1;33m    print(\"Hello, my name is \", name \"I am \",age,\" year old.\")\u001b[0m\n\u001b[1;37m                                     ^\u001b[0m\n\u001b[1;31mSyntaxError\u001b[0m\u001b[1;31m:\u001b[0m invalid syntax\n"
     ]
    }
   ],
   "source": [
    "# formatting string \n",
    "\n",
    "name= \"Akansha\"\n",
    "age=96\n",
    "print(\"Hello, my name is \", name \"I am \",age,\" year old.\")"
   ]
  },
  {
   "cell_type": "code",
   "execution_count": 9,
   "metadata": {},
   "outputs": [
    {
     "name": "stdout",
     "output_type": "stream",
     "text": [
      "Hello, my name is Akansha and i am 96 year old\n"
     ]
    }
   ],
   "source": [
    "print(f\"Hello, my name is {name} and i am {age} year old\")"
   ]
  },
  {
   "cell_type": "code",
   "execution_count": 12,
   "metadata": {},
   "outputs": [
    {
     "name": "stdout",
     "output_type": "stream",
     "text": [
      "Hello! My name is Akansha and i am 96 year old. sdjkfbskfbehfilwehfoi\n"
     ]
    }
   ],
   "source": [
    "# Formatting_string \n",
    "print(\"Hello! My name is {} and i am {} year old. sdjkfbskfbehfilwehfoi\".format(name,age))"
   ]
  },
  {
   "cell_type": "code",
   "execution_count": 13,
   "metadata": {},
   "outputs": [
    {
     "ename": "SyntaxError",
     "evalue": "unterminated string literal (detected at line 2) (1175502313.py, line 2)",
     "output_type": "error",
     "traceback": [
      "\u001b[1;36m  Cell \u001b[1;32mIn[13], line 2\u001b[1;36m\u001b[0m\n\u001b[1;33m    print('hello's')\u001b[0m\n\u001b[1;37m                  ^\u001b[0m\n\u001b[1;31mSyntaxError\u001b[0m\u001b[1;31m:\u001b[0m unterminated string literal (detected at line 2)\n"
     ]
    }
   ],
   "source": [
    "# string escaping \n",
    "print('hello's')"
   ]
  },
  {
   "cell_type": "code",
   "execution_count": 15,
   "metadata": {},
   "outputs": [
    {
     "name": "stdout",
     "output_type": "stream",
     "text": [
      "dont't\n"
     ]
    }
   ],
   "source": [
    "print(\"dont't\")"
   ]
  },
  {
   "cell_type": "code",
   "execution_count": 19,
   "metadata": {},
   "outputs": [
    {
     "name": "stdout",
     "output_type": "stream",
     "text": [
      "end's\n"
     ]
    }
   ],
   "source": [
    "print(\"end's\")"
   ]
  },
  {
   "cell_type": "code",
   "execution_count": 21,
   "metadata": {},
   "outputs": [
    {
     "name": "stdout",
     "output_type": "stream",
     "text": [
      "don\\t\n"
     ]
    }
   ],
   "source": [
    "print(\"don\\\\t\")"
   ]
  },
  {
   "cell_type": "code",
   "execution_count": 22,
   "metadata": {},
   "outputs": [
    {
     "name": "stdout",
     "output_type": "stream",
     "text": [
      "sum 21\n",
      "Subtarction 11\n",
      "Multiplication 80\n",
      "The division value 3.2\n",
      "The floor division (quotient whole number) 3\n",
      "The remainder  1\n",
      " number 1 to the power of number 2  1048576\n"
     ]
    }
   ],
   "source": [
    "# arithmetic operators \n",
    "num1= 16\n",
    "num2=5\n",
    "\n",
    "sum =num1+ num2\n",
    "sub= num1-num2\n",
    "product= num1*num2\n",
    "div= num1/ num2\n",
    "floow_divis= num1// num2\n",
    "remainder= num1 % num2\n",
    "exponent= num1**num2\n",
    "\n",
    "print(\"sum\",sum)\n",
    "print(\"Subtarction\",sub)\n",
    "print(\"Multiplication\", product)\n",
    "print(\"The division value\", div)\n",
    "print(\"The floor division (quotient whole number)\", floow_divis)\n",
    "print(\"The remainder \", remainder)\n",
    "print(\" number 1 to the power of number 2 \", exponent)\n"
   ]
  },
  {
   "cell_type": "code",
   "execution_count": 23,
   "metadata": {},
   "outputs": [
    {
     "name": "stdout",
     "output_type": "stream",
     "text": [
      "False\n",
      "True\n",
      "False\n",
      "True\n",
      "False\n",
      "True\n"
     ]
    }
   ],
   "source": [
    "#comparison operator\n",
    "print(num1==num2) \n",
    "print(num1!=num2) \n",
    "print(num1<num2) \n",
    "print(num1>num2) \n",
    "print(num1<=num2) \n",
    "print(num1>=num2) \n"
   ]
  },
  {
   "cell_type": "code",
   "execution_count": 27,
   "metadata": {},
   "outputs": [
    {
     "name": "stdout",
     "output_type": "stream",
     "text": [
      "False\n",
      "True\n",
      "False\n"
     ]
    }
   ],
   "source": [
    "a= True\n",
    "\n",
    "b= False\n",
    "\n",
    "print( a and b)\n",
    "print( a or b)\n",
    "print( not a )"
   ]
  },
  {
   "cell_type": "code",
   "execution_count": 30,
   "metadata": {},
   "outputs": [],
   "source": [
    "# assignment operator \n",
    "number=45\n",
    "number= number+5\n",
    "number+=5"
   ]
  },
  {
   "cell_type": "code",
   "execution_count": 34,
   "metadata": {},
   "outputs": [
    {
     "name": "stdout",
     "output_type": "stream",
     "text": [
      "40\n"
     ]
    }
   ],
   "source": [
    "print(number)"
   ]
  },
  {
   "cell_type": "code",
   "execution_count": 32,
   "metadata": {},
   "outputs": [],
   "source": [
    "number=45\n",
    "number-=5"
   ]
  },
  {
   "cell_type": "code",
   "execution_count": 36,
   "metadata": {},
   "outputs": [
    {
     "name": "stdout",
     "output_type": "stream",
     "text": [
      "8\n",
      "12\n",
      "4\n"
     ]
    }
   ],
   "source": [
    "# Bit wise operator \n",
    "x=12 # 1100\n",
    "y=8  # 1000\n",
    "# Bitwise AND operotor &\n",
    "print(x & y)      1000\n",
    "\n",
    "# bitwise Or operator | \n",
    "print(x|y)        1100\n",
    "\n",
    "# bitwise XOR  ^\n",
    "print(x^y)         0100\n",
    "\n",
    "\n",
    "1 bytes= 8 bits\n",
    "\n",
    "\n",
    "not\n",
    "left shift\n",
    "right shift"
   ]
  },
  {
   "cell_type": "markdown",
   "metadata": {},
   "source": [
    "Number\tBinary Number\tNumber\tBinary Number\tNumber\tBinary Number\n",
    "1\t1\t11\t1011\t21\t10101\n",
    "2\t10\t12\t1100\t22\t10110\n",
    "3\t11\t13\t1101\t23\t10111\n",
    "4\t100\t14\t1110\t24\t11000\n",
    "5\t101\t15\t1111\t25\t11001\n",
    "6\t110\t16\t10000\t26\t11010\n",
    "7\t111\t17\t10001\t27\t11011\n",
    "8\t1000\t18\t10010\t28\t11100\n",
    "9\t1001\t19\t10011\t29\t11101\n",
    "10\t1010\t20\t10100\t30\t11110"
   ]
  }
 ],
 "metadata": {
  "kernelspec": {
   "display_name": "Python 3",
   "language": "python",
   "name": "python3"
  },
  "language_info": {
   "codemirror_mode": {
    "name": "ipython",
    "version": 3
   },
   "file_extension": ".py",
   "mimetype": "text/x-python",
   "name": "python",
   "nbconvert_exporter": "python",
   "pygments_lexer": "ipython3",
   "version": "3.11.4"
  }
 },
 "nbformat": 4,
 "nbformat_minor": 2
}
