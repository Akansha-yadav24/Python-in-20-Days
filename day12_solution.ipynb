{
 "cells": [
  {
   "cell_type": "markdown",
   "metadata": {},
   "source": [
    "## Program 2: Create a Dictionary from Two Lists"
   ]
  },
  {
   "cell_type": "code",
   "execution_count": null,
   "metadata": {},
   "outputs": [],
   "source": [
    "# Creating two lists: one for keys and one for values\n",
    "keys = ['name', 'age', 'city']\n",
    "values = ['Alice', 25, 'New York']\n",
    "\n",
    "# Creating an empty dictionary\n",
    "dictionary = {}\n",
    "\n",
    "# Adding items to the dictionary by looping through both lists\n",
    "for i in range(len(keys)):\n",
    "    dictionary[keys[i]] = values[i]\n",
    "\n",
    "# Printing the dictionary\n",
    "print(\"Dictionary:\", dictionary)\n"
   ]
  },
  {
   "cell_type": "markdown",
   "metadata": {},
   "source": [
    "## Program 3: Merge Two Dictionaries"
   ]
  },
  {
   "cell_type": "markdown",
   "metadata": {},
   "source": [
    "# Creating two dictionaries\n",
    "dict1 = {'a': 1, 'b': 2}\n",
    "dict2 = {'c': 3, 'd': 4}\n",
    "\n",
    "# Creating an empty dictionary for the merged result\n",
    "merged_dict = {}\n",
    "\n",
    "# Adding items from the first dictionary\n",
    "for key in dict1:\n",
    "    merged_dict[key] = dict1[key]\n",
    "\n",
    "# Adding items from the second dictionary\n",
    "for key in dict2:\n",
    "    merged_dict[key] = dict2[key]\n",
    "\n",
    "# Printing the merged dictionary\n",
    "print(\"Merged Dictionary:\", merged_dict)\n"
   ]
  },
  {
   "cell_type": "markdown",
   "metadata": {},
   "source": [
    "## Program 4: Sort a Dictionary by Its Keys and Values"
   ]
  },
  {
   "cell_type": "code",
   "execution_count": null,
   "metadata": {},
   "outputs": [],
   "source": [
    "# Creating a dictionary with unsorted keys and values\n",
    "unsorted_dict = {'banana': 3, 'apple': 5, 'cherry': 2}\n",
    "\n",
    "# Sorting the dictionary by keys\n",
    "sorted_by_keys = {}\n",
    "for key in sorted(unsorted_dict):\n",
    "    sorted_by_keys[key] = unsorted_dict[key]\n",
    "\n",
    "# Sorting the dictionary by values\n",
    "sorted_by_values = {}\n",
    "for key, value in sorted(unsorted_dict.items(), key=lambda item: item[1]):\n",
    "    sorted_by_values[key] = value\n",
    "\n",
    "# Printing the sorted dictionaries\n",
    "print(\"Dictionary sorted by keys:\", sorted_by_keys)\n",
    "print(\"Dictionary sorted by values:\", sorted_by_values)\n"
   ]
  }
 ],
 "metadata": {
  "language_info": {
   "name": "python"
  }
 },
 "nbformat": 4,
 "nbformat_minor": 2
}
