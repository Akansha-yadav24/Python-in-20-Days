{
 "cells": [
  {
   "cell_type": "markdown",
   "metadata": {},
   "source": [
    "### Question 1: Variables, Data Types, and String Concatenation\n",
    "##### Problem:\n",
    "You have two variables, employee_name (a string) and sales_amount (an integer). Write a Python program to print a sentence that says, \"Employee [employee_name] made sales worth [sales_amount] dollars.\" Ensure the sales amount is formatted with commas (e.g., 10,000 instead of 10000).\n",
    "\n",
    "Concepts: Variables, Data Types, Print, String Concatenation"
   ]
  },
  {
   "cell_type": "code",
   "execution_count": 1,
   "metadata": {},
   "outputs": [
    {
     "name": "stdout",
     "output_type": "stream",
     "text": [
      "employee name is Anu and the sales amount is 100.\n"
     ]
    }
   ],
   "source": [
    "employee_name = \"Anu\"\n",
    "sales_amt = \"100\"\n",
    "print(f\"employee name is {employee_name} and the sales amount is {sales_amt}.\")"
   ]
  },
  {
   "cell_type": "markdown",
   "metadata": {},
   "source": [
    "#### Question 2: Lists, Sets, and Tuples\n",
    "##### Problem:\n",
    "Given a list of sales regions, regions = ['North', 'East', 'West', 'East', 'North', 'South', 'West', 'East'], perform the following tasks:\n",
    "\n",
    "- Convert the list into a set to remove duplicates.\n",
    "- Convert the set back into a tuple.\n",
    "- Print the tuple."
   ]
  },
  {
   "cell_type": "code",
   "execution_count": 2,
   "metadata": {},
   "outputs": [
    {
     "name": "stdout",
     "output_type": "stream",
     "text": [
      "('east', 'west', 'south', 'north')\n"
     ]
    }
   ],
   "source": [
    "Regions =['north','south','east', 'west', 'north', 'east', 'west', 'south']\n",
    "res = list(tuple(set(Regions)))\n",
    "print(res)"
   ]
  },
  {
   "cell_type": "markdown",
   "metadata": {},
   "source": [
    "#### Question 3: Dictionary and Loops\n",
    "#### Problem:\n",
    "You have a dictionary containing sales data, sales_data = {'North': 50000, 'East': 70000, 'West': 40000, 'South': 60000}. Write a Python program to iterate over the dictionary and print each region's name and sales amount in the format: \"Region: [region], Sales: [amount]\"."
   ]
  },
  {
   "cell_type": "code",
   "execution_count": 3,
   "metadata": {},
   "outputs": [
    {
     "name": "stdout",
     "output_type": "stream",
     "text": [
      "list of given sales data:\n",
      "north: 5000\n",
      "east: 3000\n",
      "west: 4000\n",
      "south: 6000\n"
     ]
    }
   ],
   "source": [
    "sales_data = {'north': 5000, \"east\":3000, \"west\":4000, \"south\":  6000}\n",
    "print('list of given sales data:')\n",
    "for key, value in sales_data.items():\n",
    "          print(f\"{key}: {value}\")"
   ]
  },
  {
   "cell_type": "markdown",
   "metadata": {},
   "source": [
    "#### Question 4: Conditional Statements and File Handling\n",
    "Problem:\n",
    "You have a file named sales.txt containing sales data, where each line is in the format: region, sales_amount. Write a Python program that reads the file and prints out the regions where the sales amount is greater than 50,000."
   ]
  },
  {
   "cell_type": "markdown",
   "metadata": {},
   "source": [
    "North,45000\n",
    "East,75000\n",
    "West,40000\n",
    "South,65000\n",
    "Central,52000\n",
    "Northeast,48000\n",
    "Southwest,81000\n",
    "Midwest,30000\n"
   ]
  },
  {
   "cell_type": "code",
   "execution_count": 5,
   "metadata": {},
   "outputs": [
    {
     "name": "stdout",
     "output_type": "stream",
     "text": [
      "Region: North, Sales: 45000\n",
      "Region: West, Sales: 40000\n",
      "Region: Northeast, Sales: 48000\n",
      "Region: Midwest, Sales: 30000\n"
     ]
    }
   ],
   "source": [
    "# Open the file in read mode\n",
    "with open('sales.txt', 'r') as file:\n",
    "    # Iterate over each line in the file\n",
    "    for line in file:\n",
    "        # Split the line by comma to separate region and sales_amount\n",
    "        region, sales_amount = line.strip().split(',')\n",
    "        # Convert sales_amount to integer\n",
    "        sales_amount = int(sales_amount)\n",
    "        # Check if sales_amount is greater than 50,000\n",
    "        if sales_amount < 50000:\n",
    "            print(f\"Region: {region}, Sales: {sales_amount}\")\n"
   ]
  },
  {
   "cell_type": "markdown",
   "metadata": {},
   "source": [
    "#### Question 5: Classes and Objects\n",
    "##### Problem:\n",
    "Create a class Product with attributes name, category, and price. Define a method apply_discount that takes a percentage as an argument and reduces the price by that percentage. Create an object of the class and apply a discount of 10% to a product priced at $100. Print the original and discounted price."
   ]
  },
  {
   "cell_type": "code",
   "execution_count": 7,
   "metadata": {},
   "outputs": [
    {
     "name": "stdout",
     "output_type": "stream",
     "text": [
      "Original Price: $100\n",
      "Discounted Price: $80.0\n"
     ]
    }
   ],
   "source": [
    "# Define the Product class\n",
    "class Product:\n",
    "    def __init__(self, name, category, price):\n",
    "        self.name = name\n",
    "        self.category = category\n",
    "        self.price = price\n",
    "\n",
    "    def apply_discount(self, discount_percentage):\n",
    "        discount_amount = (discount_percentage / 100) * self.price\n",
    "        self.price -= discount_amount\n",
    "        return self.price\n",
    "\n",
    "# Create an object of the Product class\n",
    "product = Product(name=\"Laptop\", category=\"Electronics\", price=100)\n",
    "\n",
    "# Print the original price\n",
    "print(f\"Original Price: ${product.price}\")\n",
    "\n",
    "# Apply a 10% discount\n",
    "discounted_price = product.apply_discount(20)\n",
    "\n",
    "# Print the discounted price\n",
    "print(f\"Discounted Price: ${discounted_price}\")\n"
   ]
  },
  {
   "cell_type": "code",
   "execution_count": null,
   "metadata": {},
   "outputs": [],
   "source": []
  }
 ],
 "metadata": {
  "kernelspec": {
   "display_name": "Python 3",
   "language": "python",
   "name": "python3"
  },
  "language_info": {
   "codemirror_mode": {
    "name": "ipython",
    "version": 3
   },
   "file_extension": ".py",
   "mimetype": "text/x-python",
   "name": "python",
   "nbconvert_exporter": "python",
   "pygments_lexer": "ipython3",
   "version": "3.11.4"
  }
 },
 "nbformat": 4,
 "nbformat_minor": 2
}
