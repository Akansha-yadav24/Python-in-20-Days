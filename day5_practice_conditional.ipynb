{
 "cells": [
  {
   "cell_type": "code",
   "execution_count": null,
   "metadata": {},
   "outputs": [],
   "source": []
  },
  {
   "cell_type": "markdown",
   "metadata": {},
   "source": [
    "Marco sells pizzas for 10 dollars each and french fries for 5 dollars. He\n",
    "recently received an order for a party! The clients want 10 Pizzas and 10\n",
    "French fries. Calculate the total bill.\n"
   ]
  },
  {
   "cell_type": "code",
   "execution_count": 3,
   "metadata": {},
   "outputs": [
    {
     "name": "stdout",
     "output_type": "stream",
     "text": [
      "The total bill for client X is 150\n"
     ]
    }
   ],
   "source": [
    "pizza = 10\n",
    "frenchfries=5\n",
    "totalbill= pizza*10 + frenchfries*10\n",
    "print(\"The total bill for client X is\", totalbill)"
   ]
  },
  {
   "cell_type": "markdown",
   "metadata": {},
   "source": [
    "## Problem 2: -ROLLERCOSTER\n",
    "Bonnie visited the amusement park with her father. She enjoyed all the\n",
    "rides very much but one in particular caught her eye. The one and only\n",
    "rollercoaster! BUT! There is a age requirement for riding that coaster.\n",
    "The minimum age required is 10. If Bonnie is 15 years old, can we check\n",
    "if she can ride the rollercoaster?"
   ]
  },
  {
   "cell_type": "code",
   "execution_count": 5,
   "metadata": {},
   "outputs": [
    {
     "name": "stdout",
     "output_type": "stream",
     "text": [
      "False\n"
     ]
    }
   ],
   "source": [
    "boonie=9\n",
    "result= boonie>10\n",
    "print(result)"
   ]
  },
  {
   "cell_type": "markdown",
   "metadata": {},
   "source": [
    "### Problem 3: Write a program to swap two numbers in python."
   ]
  },
  {
   "cell_type": "markdown",
   "metadata": {},
   "source": [
    "x 5 \n",
    "y 6 \n",
    "\n",
    "y = 5\n",
    "x=6\n"
   ]
  },
  {
   "cell_type": "code",
   "execution_count": 6,
   "metadata": {},
   "outputs": [],
   "source": [
    "x= 5\n",
    "y= 6\n",
    "x,y=y,x"
   ]
  },
  {
   "cell_type": "code",
   "execution_count": 7,
   "metadata": {},
   "outputs": [
    {
     "name": "stdout",
     "output_type": "stream",
     "text": [
      "5\n"
     ]
    }
   ],
   "source": [
    "print(y)"
   ]
  },
  {
   "cell_type": "code",
   "execution_count": 8,
   "metadata": {},
   "outputs": [
    {
     "name": "stdout",
     "output_type": "stream",
     "text": [
      "6\n"
     ]
    }
   ],
   "source": [
    "print(x)"
   ]
  },
  {
   "cell_type": "markdown",
   "metadata": {},
   "source": [
    "### ARMSTRONG NUMBER\n",
    "Jack learnt in maths class about Armstrong Numbers. Armstrong\n",
    "numbers are numbers where if each individual digit of the number was to\n",
    "be raised to a power of 3, the sum of that would be equal to the number\n",
    "itself. For Example, 370 = 3**3 + 7**7 +0**0 = 370 The teacher gave\n",
    "Jack the number 153. Can we check if the number is a armstrong\n",
    "number or not."
   ]
  },
  {
   "cell_type": "markdown",
   "metadata": {},
   "source": [
    "### Program to check if the number is even or odd\n",
    "### program to check if the number is positive or negative "
   ]
  },
  {
   "cell_type": "markdown",
   "metadata": {},
   "source": [
    "Control FLow \n",
    "\n",
    " ## conditional statement \n",
    "  looping "
   ]
  },
  {
   "cell_type": "markdown",
   "metadata": {},
   "source": [
    "## conditional statement \n",
    "if statement -- 1 condition\n",
    "if-else statement -- two output for 1 condition\n",
    "elif statement -- more than 1 condition to be tested.\n",
    "nested if -- multiple condition which are dependent on previos condition."
   ]
  },
  {
   "cell_type": "code",
   "execution_count": null,
   "metadata": {},
   "outputs": [],
   "source": [
    "if (condition): \n",
    "    code that you want to execute when the condition is true."
   ]
  },
  {
   "cell_type": "code",
   "execution_count": 11,
   "metadata": {},
   "outputs": [],
   "source": [
    "boonie=9\n",
    "if (boonie>10):\n",
    "    print(\" Yes she is eligible for a ride.\")"
   ]
  },
  {
   "cell_type": "code",
   "execution_count": 12,
   "metadata": {},
   "outputs": [
    {
     "name": "stdout",
     "output_type": "stream",
     "text": [
      "Not eligible for a ride.\n"
     ]
    }
   ],
   "source": [
    "boonie=9\n",
    "if (boonie>=10):\n",
    "    print(\" Yes she is eligible for a ride.\")\n",
    "else: \n",
    "    print(\"Not eligible for a ride.\")"
   ]
  },
  {
   "cell_type": "markdown",
   "metadata": {},
   "source": [
    "## Voters eligibility"
   ]
  },
  {
   "cell_type": "code",
   "execution_count": 32,
   "metadata": {},
   "outputs": [
    {
     "name": "stdout",
     "output_type": "stream",
     "text": [
      "-----------Voters Eligibility program--------------\n",
      "Eligible.\n"
     ]
    }
   ],
   "source": [
    "print(\"-----------Voters Eligibility program--------------\")\n",
    "age=int(input(\"Enter your Age:-\"))\n",
    "if age>=18:\n",
    "    print(\"Eligible.\")\n",
    "else: \n",
    "    print(\" Not Eligible\")"
   ]
  },
  {
   "cell_type": "code",
   "execution_count": 19,
   "metadata": {},
   "outputs": [],
   "source": [
    "age= input(\"Enter the your name:-\")"
   ]
  },
  {
   "cell_type": "markdown",
   "metadata": {},
   "source": [
    "str"
   ]
  },
  {
   "cell_type": "code",
   "execution_count": 16,
   "metadata": {},
   "outputs": [
    {
     "name": "stdout",
     "output_type": "stream",
     "text": [
      "56\n"
     ]
    }
   ],
   "source": [
    "print(age)"
   ]
  },
  {
   "cell_type": "code",
   "execution_count": 24,
   "metadata": {},
   "outputs": [
    {
     "name": "stdout",
     "output_type": "stream",
     "text": [
      "90.0\n"
     ]
    }
   ],
   "source": [
    "number_1= int(input(\" enter 1st number:-\"))\n",
    "number_2= float(input(\" enter 2nd number:- \"))\n",
    "pro= number_2*number_1\n",
    "print(pro)"
   ]
  },
  {
   "cell_type": "code",
   "execution_count": 25,
   "metadata": {},
   "outputs": [],
   "source": [
    "boonie=str(9)"
   ]
  },
  {
   "cell_type": "code",
   "execution_count": 26,
   "metadata": {},
   "outputs": [
    {
     "data": {
      "text/plain": [
       "str"
      ]
     },
     "execution_count": 26,
     "metadata": {},
     "output_type": "execute_result"
    }
   ],
   "source": [
    "type(boonie)"
   ]
  },
  {
   "cell_type": "code",
   "execution_count": 27,
   "metadata": {},
   "outputs": [],
   "source": [
    "b= True"
   ]
  },
  {
   "cell_type": "code",
   "execution_count": 28,
   "metadata": {},
   "outputs": [
    {
     "data": {
      "text/plain": [
       "bool"
      ]
     },
     "execution_count": 28,
     "metadata": {},
     "output_type": "execute_result"
    }
   ],
   "source": [
    "type(b)"
   ]
  },
  {
   "cell_type": "code",
   "execution_count": 29,
   "metadata": {},
   "outputs": [],
   "source": [
    "a=int(b)"
   ]
  },
  {
   "cell_type": "code",
   "execution_count": 30,
   "metadata": {},
   "outputs": [
    {
     "data": {
      "text/plain": [
       "int"
      ]
     },
     "execution_count": 30,
     "metadata": {},
     "output_type": "execute_result"
    }
   ],
   "source": [
    "type(a)"
   ]
  },
  {
   "cell_type": "code",
   "execution_count": 31,
   "metadata": {},
   "outputs": [
    {
     "name": "stdout",
     "output_type": "stream",
     "text": [
      "1\n"
     ]
    }
   ],
   "source": [
    "print(a)"
   ]
  },
  {
   "cell_type": "code",
   "execution_count": null,
   "metadata": {},
   "outputs": [],
   "source": [
    "\"hello\"\n",
    "[\"h\",\"e\",\"l\",\"l\",\"o\"]"
   ]
  },
  {
   "cell_type": "code",
   "execution_count": 34,
   "metadata": {},
   "outputs": [
    {
     "name": "stdout",
     "output_type": "stream",
     "text": [
      "33.0 is odd number\n"
     ]
    }
   ],
   "source": [
    "### Program to check if the number is even or odd\n",
    "number= float(input(\"Enter the number to be checked:-\"))\n",
    "if number%2==0:\n",
    "    print(number, \" is the even number\")\n",
    "else: \n",
    "    print(number, \"is odd number\")"
   ]
  },
  {
   "cell_type": "code",
   "execution_count": 37,
   "metadata": {},
   "outputs": [
    {
     "name": "stdout",
     "output_type": "stream",
     "text": [
      " the number is negative\n"
     ]
    }
   ],
   "source": [
    "### program to check if the number is positive or negative \n",
    "number_check= float(input(\"Enter the number:-\"))\n",
    "if number_check>0:\n",
    "    print(\" the number is positive.\")\n",
    "else: \n",
    "    print(\" the number is negative\")\n"
   ]
  },
  {
   "cell_type": "markdown",
   "metadata": {},
   "source": [
    "if (Condition):\n",
    "    to be printed\n",
    "elif (condition):\n",
    "    print\n",
    "elif(conditio):\n",
    "    to be execute\n",
    "elif(condition):\n",
    "    to be execute\n",
    "else:\n",
    "    print"
   ]
  },
  {
   "cell_type": "code",
   "execution_count": 40,
   "metadata": {},
   "outputs": [
    {
     "name": "stdout",
     "output_type": "stream",
     "text": [
      " the number is positive.\n"
     ]
    }
   ],
   "source": [
    "### program to check if the number is positive or negative or zero \n",
    "number_check= float(input(\"Enter the number:-\"))\n",
    "if number_check>0:\n",
    "    print(\" the number is positive.\")\n",
    "elif number_check==0:\n",
    "    print(\"The number is Zero.\")\n",
    "else: \n",
    "    print(\" the number is negative\")\n"
   ]
  },
  {
   "cell_type": "code",
   "execution_count": null,
   "metadata": {},
   "outputs": [],
   "source": [
    "if (Condition):\n",
    "    to be execute\n",
    "    if(condition):\n",
    "        to be executed\n",
    "    else:\n",
    "        to be excuted\n",
    "elif(Condition):\n",
    "    to be execute\n",
    "    if(condition):\n",
    "        to be executed\n",
    "    else:\n",
    "        to be excute.\n",
    "else: \n",
    "    print"
   ]
  },
  {
   "cell_type": "code",
   "execution_count": 47,
   "metadata": {},
   "outputs": [
    {
     "name": "stdout",
     "output_type": "stream",
     "text": [
      " the number is e.\n",
      "-2.0  is the even number\n"
     ]
    }
   ],
   "source": [
    "tonumber= float(input(\"Enter the number to be checked:-\"))\n",
    "if tonumber>0:\n",
    "    print(\" the number is positive.\")\n",
    "    if tonumber%2==0:\n",
    "        print(tonumber, \" is the even number\")\n",
    "    else: \n",
    "        print(tonumber, \"is odd number\")\n",
    "elif tonumber<0:\n",
    "    print(\" the number is e.\")\n",
    "    if tonumber%2==0:\n",
    "        print(tonumber, \" is the even number\")\n",
    "    else: \n",
    "        print(tonumber, \"is odd number\")\n",
    "else: \n",
    "    print(\" the number is Zero\")\n",
    "    print(\"zero is either positive or negative\")"
   ]
  }
 ],
 "metadata": {
  "kernelspec": {
   "display_name": "Python 3",
   "language": "python",
   "name": "python3"
  },
  "language_info": {
   "codemirror_mode": {
    "name": "ipython",
    "version": 3
   },
   "file_extension": ".py",
   "mimetype": "text/x-python",
   "name": "python",
   "nbconvert_exporter": "python",
   "pygments_lexer": "ipython3",
   "version": "3.11.4"
  }
 },
 "nbformat": 4,
 "nbformat_minor": 2
}
