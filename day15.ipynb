{
 "cells": [
  {
   "cell_type": "code",
   "execution_count": null,
   "metadata": {},
   "outputs": [],
   "source": [
    "open(file_name, \"access_mode\")"
   ]
  },
  {
   "cell_type": "markdown",
   "metadata": {},
   "source": [
    "## Access mode \n",
    "\n",
    "r\n",
    "w\n",
    "a\n",
    "r+\n",
    "a+"
   ]
  },
  {
   "cell_type": "code",
   "execution_count": 26,
   "metadata": {},
   "outputs": [],
   "source": [
    "file1=open(\"new.txt\", \"r\")"
   ]
  },
  {
   "cell_type": "code",
   "execution_count": 8,
   "metadata": {},
   "outputs": [],
   "source": [
    "file2=open(r\"C:\\Users\\yadav\\OneDrive\\Desktop\\20 Days python\\new.txt\",\"w\")"
   ]
  },
  {
   "cell_type": "code",
   "execution_count": 7,
   "metadata": {},
   "outputs": [],
   "source": [
    "file3=open(r\"C:\\Users\\yadav\\OneDrive\\Desktop\\20 Days python\\new.txt\", \"a\")"
   ]
  },
  {
   "cell_type": "code",
   "execution_count": 28,
   "metadata": {},
   "outputs": [],
   "source": [
    "file1.close()"
   ]
  },
  {
   "cell_type": "code",
   "execution_count": 20,
   "metadata": {},
   "outputs": [
    {
     "name": "stdout",
     "output_type": "stream",
     "text": [
      "Titan\n"
     ]
    }
   ],
   "source": [
    "print(file1.read(5))"
   ]
  },
  {
   "cell_type": "code",
   "execution_count": 27,
   "metadata": {},
   "outputs": [
    {
     "name": "stdout",
     "output_type": "stream",
     "text": [
      "Titanis is a genus of Phorusrhacidae, \n",
      "\n"
     ]
    }
   ],
   "source": [
    "print(file1.readline())"
   ]
  },
  {
   "cell_type": "code",
   "execution_count": 23,
   "metadata": {},
   "outputs": [
    {
     "name": "stdout",
     "output_type": "stream",
     "text": [
      "['or \"terror birds\". The extinct family of \\n', 'large, predatory birds originated in South \\n', 'America and inhabited parts of the present-day \\n', 'United States during the Pliocene. Like all phorusrhacids, \\n', 'Titanis had elongated hind limbs, a thin pelvis, proportionally \\n', 'small wings, and a large skull with a hooked beak. Estimates placed Titanis \\n', 'at 1.4 to 2 meters (4.6 to 6.6 ft) in height and over 300 kilograms (660 lb) \\n', 'in body mass. Phorusrhacids are thought to have been ground predators or \\n', 'scavengers, apex predators that dominated Cenozoic South America. They may \\n', 'have swallowed small prey whole or targeted larger prey with repeated strikes \\n', 'of the beak. Titanis likely preyed on mammals such as the extinct armadillo \\n', 'relatives Holmesina and Glyptotherium, equids, tapirs, capybaras, and other \\n', 'Pliocene herbivores.']\n"
     ]
    }
   ],
   "source": [
    "print(file1.readlines())"
   ]
  },
  {
   "cell_type": "markdown",
   "metadata": {},
   "source": [
    "* read([n]) --- Character wise\n",
    "* readline([n]) -- line by line by default 1st line\n",
    "* readlines([n]) -- entire file content with new line character"
   ]
  },
  {
   "cell_type": "code",
   "execution_count": 29,
   "metadata": {},
   "outputs": [],
   "source": [
    "lines=4\n",
    "fo=open(\"new.txt\", \"r\")"
   ]
  },
  {
   "cell_type": "code",
   "execution_count": 30,
   "metadata": {},
   "outputs": [
    {
     "name": "stdout",
     "output_type": "stream",
     "text": [
      "America and inhabited parts of the present-day \n",
      "\n"
     ]
    }
   ],
   "source": [
    "currentline=1\n",
    "for linenum in fo:\n",
    "    if(currentline==lines):\n",
    "        print(linenum)\n",
    "        break\n",
    "    currentline=currentline+1"
   ]
  },
  {
   "cell_type": "code",
   "execution_count": 34,
   "metadata": {},
   "outputs": [
    {
     "name": "stdout",
     "output_type": "stream",
     "text": [
      "Tita\n",
      "nis is a genus of Phorusrhacidae, \n",
      "\n"
     ]
    }
   ],
   "source": [
    "lines=4\n",
    "fo1=open(\"new.txt\", \"r\")\n",
    "print(fo1.read(4))\n",
    "print(fo1.readline())\n",
    "fo1.close()"
   ]
  },
  {
   "cell_type": "code",
   "execution_count": 35,
   "metadata": {},
   "outputs": [
    {
     "name": "stdout",
     "output_type": "stream",
     "text": [
      "Titanis is a genus of Phorusrhacidae, \n",
      "\n",
      "or \"terror birds\". The extinct family of \n",
      "\n"
     ]
    }
   ],
   "source": [
    "fo2=open(\"new.txt\", \"r\")\n",
    "first=fo2.readline()\n",
    "second=fo2.readline()\n",
    "print(first)\n",
    "print(second)"
   ]
  },
  {
   "cell_type": "code",
   "execution_count": 36,
   "metadata": {},
   "outputs": [
    {
     "name": "stdout",
     "output_type": "stream",
     "text": [
      "large, predatory birds originated in South \n",
      "\n"
     ]
    }
   ],
   "source": [
    "third=fo2.readline()\n",
    "print(third)"
   ]
  },
  {
   "cell_type": "markdown",
   "metadata": {},
   "source": [
    "Write(\"String\")\n",
    "writelines(List)"
   ]
  },
  {
   "cell_type": "code",
   "execution_count": 39,
   "metadata": {},
   "outputs": [],
   "source": [
    "new1file=open(\"new1.txt\",\"w\")\n",
    "new1file.write(\"Hello, This is the first line.\\n\")\n",
    "new1file.write(\"This is the second line\")\n",
    "new1file.close()"
   ]
  },
  {
   "cell_type": "code",
   "execution_count": 58,
   "metadata": {},
   "outputs": [],
   "source": [
    "new1open=open(\"new1.txt\",\"r\")"
   ]
  },
  {
   "cell_type": "code",
   "execution_count": 59,
   "metadata": {},
   "outputs": [
    {
     "name": "stdout",
     "output_type": "stream",
     "text": [
      "This is line 1 of the file after overwriting\n",
      "This is line 2 of the file\n",
      "Line 3\n",
      "Line4\n",
      "Pythonnext line\n"
     ]
    }
   ],
   "source": [
    "print(new1open.read())"
   ]
  },
  {
   "cell_type": "code",
   "execution_count": 60,
   "metadata": {},
   "outputs": [],
   "source": [
    "new1open.close()"
   ]
  },
  {
   "cell_type": "code",
   "execution_count": 50,
   "metadata": {},
   "outputs": [],
   "source": [
    "list1=[\"This is line 1 of the file after overwriting\\n\",\"This is line 2 of the file\\n\",\"Line 3\\n\",\"Line4\\n\",\"Python\"]\n",
    "writefile=open(\"new1.txt\",\"w\")\n",
    "writefile.writelines(list1)"
   ]
  },
  {
   "cell_type": "code",
   "execution_count": 51,
   "metadata": {},
   "outputs": [],
   "source": [
    "writefile.close()"
   ]
  },
  {
   "cell_type": "code",
   "execution_count": 54,
   "metadata": {},
   "outputs": [],
   "source": [
    "myfile=open(\"new1.txt\", \"a+\")"
   ]
  },
  {
   "cell_type": "code",
   "execution_count": 55,
   "metadata": {},
   "outputs": [
    {
     "data": {
      "text/plain": [
       "9"
      ]
     },
     "execution_count": 55,
     "metadata": {},
     "output_type": "execute_result"
    }
   ],
   "source": [
    "myfile.write(\"next line\")"
   ]
  },
  {
   "cell_type": "code",
   "execution_count": 57,
   "metadata": {},
   "outputs": [],
   "source": [
    "myfile.close()"
   ]
  },
  {
   "cell_type": "code",
   "execution_count": 61,
   "metadata": {},
   "outputs": [],
   "source": [
    "with open(\"new1.txt\",\"r\") as fileswith:\n",
    "    content=fileswith.read()"
   ]
  },
  {
   "cell_type": "code",
   "execution_count": 62,
   "metadata": {},
   "outputs": [
    {
     "name": "stdout",
     "output_type": "stream",
     "text": [
      "This is line 1 of the file after overwriting\n",
      "This is line 2 of the file\n",
      "Line 3\n",
      "Line4\n",
      "Pythonnext line\n"
     ]
    }
   ],
   "source": [
    "print(content)"
   ]
  },
  {
   "cell_type": "markdown",
   "metadata": {},
   "source": [
    "## Task: Student Grades Management System\n",
    "#### Write a Program that:\n",
    "* Accepts student names and their grades.\n",
    "* Saves them into a file.\n",
    "* Reads the data back.\n",
    "* Computes the average grade and displays students who scored above the average."
   ]
  },
  {
   "cell_type": "markdown",
   "metadata": {},
   "source": []
  },
  {
   "cell_type": "code",
   "execution_count": null,
   "metadata": {},
   "outputs": [],
   "source": []
  }
 ],
 "metadata": {
  "kernelspec": {
   "display_name": "Python 3",
   "language": "python",
   "name": "python3"
  },
  "language_info": {
   "codemirror_mode": {
    "name": "ipython",
    "version": 3
   },
   "file_extension": ".py",
   "mimetype": "text/x-python",
   "name": "python",
   "nbconvert_exporter": "python",
   "pygments_lexer": "ipython3",
   "version": "3.11.4"
  }
 },
 "nbformat": 4,
 "nbformat_minor": 2
}
